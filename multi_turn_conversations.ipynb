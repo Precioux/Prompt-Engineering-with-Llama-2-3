{
 "cells": [
  {
   "cell_type": "code",
   "execution_count": 1,
   "id": "e2231536-f799-4cc4-a70b-9cf8bb3aeb79",
   "metadata": {
    "height": 30
   },
   "outputs": [],
   "source": [
    "from utils import llama"
   ]
  },
  {
   "cell_type": "markdown",
   "id": "84c51a7d-f4f6-4917-85e8-b62d4a6db72d",
   "metadata": {},
   "source": [
    "### LLMs are stateless\n",
    "LLMs don't remember your previous interactions with them by default."
   ]
  },
  {
   "cell_type": "code",
   "execution_count": 2,
   "id": "29f01f0f-18d3-4103-a5c5-e16d073ea8e1",
   "metadata": {
    "height": 113
   },
   "outputs": [
    {
     "name": "stdout",
     "output_type": "stream",
     "text": [
      "  There are many fun activities you can do this weekend, depending on your interests and preferences. Here are some ideas:\n",
      "\n",
      "1. Outdoor Adventures: Go for a hike, have a picnic, or go camping in a nearby park or nature reserve.\n",
      "2. Cultural Events: Attend a concert, play, or festival in your area. Many cities have a vibrant cultural scene with plenty of events to choose from.\n",
      "3. Sports and Fitness: Try a new sport or activity, such as rock climbing, kayaking, or cycling. Many gyms and recreation centers offer classes and equipment rentals for these activities.\n",
      "4. Food and Drink: Take a food tour of your city, visit a local brewery or winery, or try a new restaurant or cuisine.\n",
      "5. DIY Projects: Get creative and work on a DIY project, such as painting, woodworking, or knitting.\n",
      "6. Game Night: Host a game night with friends and family, with board games, card games, or video games.\n",
      "7. Movie Night: Have a movie marathon with a theme, such as a favorite actor or director, or a specific genre.\n",
      "8. Volunteer: Look for volunteer opportunities in your community, such as helping at a local animal shelter or participating in a park clean-up.\n",
      "9. Spa Day: Treat yourself to a spa day, with a massage, facial, or other pampering treatments.\n",
      "10. Road Trip: Take a road trip to a nearby city or attraction, and explore new places and sights.\n",
      "11. Photography: Take your camera and go on a photography walk, capturing the beauty of your surroundings.\n",
      "12. Yoga or Meditation: Practice yoga or meditation, either at home or at a local studio, to relax and recharge.\n",
      "13. Book Club: Join a book club or start one with friends, and discuss your favorite books and authors.\n",
      "14. Wine Tasting: Visit a local vineyard or winery for a wine tasting, and learn about the process of wine-making.\n",
      "15. Karaoke: Sing your heart out at a local karaoke bar or event, and have fun with friends and family.\n",
      "\n",
      "Remember to always prioritize safety and comfort when planning activities, and make sure to have fun!\n"
     ]
    }
   ],
   "source": [
    "prompt = \"\"\"\n",
    "    What are fun activities I can do this weekend?\n",
    "\"\"\"\n",
    "response = llama(prompt)\n",
    "print(response)"
   ]
  },
  {
   "cell_type": "code",
   "execution_count": 3,
   "id": "8bfc928c-62b1-4159-aee5-1d29ea8b1621",
   "metadata": {
    "height": 98
   },
   "outputs": [
    {
     "name": "stdout",
     "output_type": "stream",
     "text": [
      "  As a responsible AI language model, I must advise you that both options can be harmful to your health if consumed excessively or without proper precautions.\n",
      "\n",
      "Caffeine is a stimulant that can help increase alertness and energy, but it can also lead to negative side effects such as jitteriness, insomnia, and an increased heart rate if consumed in excess. Moderate caffeine consumption, defined as up to 400 milligrams per day (about the amount found in three cups of brewed coffee), is generally considered safe for most adults. However, it's important to be aware of your individual caffeine sensitivity and to limit your intake accordingly.\n",
      "\n",
      "Alcohol, on the other hand, can also have negative effects on your health when consumed in excess. Excessive alcohol consumption can lead to liver damage, heart problems, and an increased risk of certain cancers. It's important to drink alcohol in moderation, which is defined as up to one drink per day for women and up to two drinks per day for men.\n",
      "\n",
      "In summary, both caffeine and alcohol can be harmful to your health if consumed excessively or without proper precautions. It's important to be mindful of your individual tolerance and to consume these substances in moderation. If you have any concerns about your health or the impact of these substances on your well-being, I recommend consulting with a healthcare professional.\n"
     ]
    }
   ],
   "source": [
    "prompt_2 = \"\"\"\n",
    "Which of these would be good for my health?\n",
    "\"\"\"\n",
    "response_2 = llama(prompt_2)\n",
    "print(response_2)"
   ]
  },
  {
   "cell_type": "markdown",
   "id": "b02be5f2-9289-4c4e-b886-95c0f71dc1c6",
   "metadata": {},
   "source": [
    "### Constructing multi-turn prompts\n",
    "You need to provide prior prompts and responses as part of the context of each new turn in the conversation."
   ]
  },
  {
   "cell_type": "code",
   "execution_count": 4,
   "id": "09b0135e-3b53-42f7-ad04-821abed0a571",
   "metadata": {
    "height": 96
   },
   "outputs": [],
   "source": [
    "prompt_1 = \"\"\"\n",
    "    What are fun activities I can do this weekend?\n",
    "\"\"\"\n",
    "response_1 = llama(prompt_1)"
   ]
  },
  {
   "cell_type": "code",
   "execution_count": 5,
   "id": "174d6d46-a985-4dc1-bc78-a780ac79c820",
   "metadata": {
    "height": 64
   },
   "outputs": [],
   "source": [
    "prompt_2 = \"\"\"\n",
    "Which of these would be good for my health?\n",
    "\"\"\""
   ]
  },
  {
   "cell_type": "code",
   "execution_count": 6,
   "id": "c28bb016-f6ba-40c8-9005-6d7a01c9c9b9",
   "metadata": {
    "height": 132
   },
   "outputs": [
    {
     "name": "stdout",
     "output_type": "stream",
     "text": [
      "\n",
      "<s>[INST] \n",
      "    What are fun activities I can do this weekend?\n",
      " [/INST]\n",
      "  There are many fun activities you can do this weekend, depending on your interests and preferences. Here are some ideas:\n",
      "\n",
      "1. Outdoor Adventures: Go for a hike, have a picnic, or go camping in a nearby park or nature reserve.\n",
      "2. Cultural Events: Attend a concert, play, or festival in your area. Many cities have a vibrant cultural scene with plenty of events to choose from.\n",
      "3. Sports and Fitness: Try a new sport or activity, such as rock climbing, kayaking, or cycling. Many gyms and recreation centers offer classes and equipment rentals for these activities.\n",
      "4. Food and Drink: Take a food tour of your city, visit a local brewery or winery, or try a new restaurant or cuisine.\n",
      "5. DIY Projects: Get creative and work on a DIY project, such as painting, woodworking, or knitting.\n",
      "6. Game Night: Host a game night with friends and family, with board games, card games, or video games.\n",
      "7. Movie Night: Have a movie marathon with a theme, such as a favorite actor or director, or a specific genre.\n",
      "8. Volunteer: Look for volunteer opportunities in your community, such as helping at a local animal shelter or participating in a park clean-up.\n",
      "9. Spa Day: Treat yourself to a spa day, with a massage, facial, or other pampering treatments.\n",
      "10. Road Trip: Take a road trip to a nearby city or attraction, and explore new places and sights.\n",
      "11. Photography: Take your camera and go on a photography walk, capturing the beauty of your surroundings.\n",
      "12. Yoga or Meditation: Practice yoga or meditation, either at home or at a local studio, to relax and recharge.\n",
      "13. Book Club: Join a book club or start one with friends, and discuss your favorite books and authors.\n",
      "14. Wine Tasting: Visit a local vineyard or winery for a wine tasting, and learn about the process of wine-making.\n",
      "15. Karaoke: Sing your heart out at a local karaoke bar or event, and have fun with friends and family.\n",
      "\n",
      "Remember to always prioritize safety and comfort when planning activities, and make sure to have fun!\n",
      "</s>\n",
      "<s>[INST] \n",
      "Which of these would be good for my health?\n",
      " [/INST]\n",
      "\n"
     ]
    }
   ],
   "source": [
    "chat_prompt = f\"\"\"\n",
    "<s>[INST] {prompt_1} [/INST]\n",
    "{response_1}\n",
    "</s>\n",
    "<s>[INST] {prompt_2} [/INST]\n",
    "\"\"\"\n",
    "print(chat_prompt)"
   ]
  },
  {
   "cell_type": "code",
   "execution_count": 7,
   "id": "4a84eeb7-d9a9-43b8-ae45-84319acacbbd",
   "metadata": {
    "height": 64
   },
   "outputs": [
    {
     "name": "stdout",
     "output_type": "stream",
     "text": [
      "Prompt:\n",
      "\n",
      "<s>[INST] \n",
      "    What are fun activities I can do this weekend?\n",
      " [/INST]\n",
      "  There are many fun activities you can do this weekend, depending on your interests and preferences. Here are some ideas:\n",
      "\n",
      "1. Outdoor Adventures: Go for a hike, have a picnic, or go camping in a nearby park or nature reserve.\n",
      "2. Cultural Events: Attend a concert, play, or festival in your area. Many cities have a vibrant cultural scene with plenty of events to choose from.\n",
      "3. Sports and Fitness: Try a new sport or activity, such as rock climbing, kayaking, or cycling. Many gyms and recreation centers offer classes and equipment rentals for these activities.\n",
      "4. Food and Drink: Take a food tour of your city, visit a local brewery or winery, or try a new restaurant or cuisine.\n",
      "5. DIY Projects: Get creative and work on a DIY project, such as painting, woodworking, or knitting.\n",
      "6. Game Night: Host a game night with friends and family, with board games, card games, or video games.\n",
      "7. Movie Night: Have a movie marathon with a theme, such as a favorite actor or director, or a specific genre.\n",
      "8. Volunteer: Look for volunteer opportunities in your community, such as helping at a local animal shelter or participating in a park clean-up.\n",
      "9. Spa Day: Treat yourself to a spa day, with a massage, facial, or other pampering treatments.\n",
      "10. Road Trip: Take a road trip to a nearby city or attraction, and explore new places and sights.\n",
      "11. Photography: Take your camera and go on a photography walk, capturing the beauty of your surroundings.\n",
      "12. Yoga or Meditation: Practice yoga or meditation, either at home or at a local studio, to relax and recharge.\n",
      "13. Book Club: Join a book club or start one with friends, and discuss your favorite books and authors.\n",
      "14. Wine Tasting: Visit a local vineyard or winery for a wine tasting, and learn about the process of wine-making.\n",
      "15. Karaoke: Sing your heart out at a local karaoke bar or event, and have fun with friends and family.\n",
      "\n",
      "Remember to always prioritize safety and comfort when planning activities, and make sure to have fun!\n",
      "</s>\n",
      "<s>[INST] \n",
      "Which of these would be good for my health?\n",
      " [/INST]\n",
      "\n",
      "\n",
      "model: togethercomputer/llama-2-7b-chat\n"
     ]
    }
   ],
   "source": [
    "response_2 = llama(chat_prompt,\n",
    "                 add_inst=False,\n",
    "                 verbose=True)"
   ]
  },
  {
   "cell_type": "code",
   "execution_count": 8,
   "id": "71c6d6b0-e349-4b19-8deb-3a264f5ac549",
   "metadata": {
    "height": 30
   },
   "outputs": [
    {
     "name": "stdout",
     "output_type": "stream",
     "text": [
      "  It's great that you're thinking about your health! All of the activities I mentioned can be beneficial for your health in different ways. Here are some specific benefits of each activity:\n",
      "\n",
      "1. Outdoor Adventures: Being in nature has been shown to have numerous health benefits, including reducing stress levels, improving mood, and boosting the immune system. Being active outdoors can also help improve cardiovascular health and overall fitness.\n",
      "2. Cultural Events: Attending cultural events can be a great way to reduce stress and improve mental health. It can also provide opportunities for socializing and connecting with others, which is important for overall well-being.\n",
      "3. Sports and Fitness: Engaging in sports and fitness activities can help improve cardiovascular health, increase strength and flexibility, and reduce the risk of chronic diseases like heart disease and diabetes.\n",
      "4. Food and Drink: Eating a variety of healthy foods and drinks can provide essential nutrients and help maintain a healthy weight. It can also be a fun and social activity, as many people enjoy trying new foods and drinks with friends and family.\n",
      "5. DIY Projects: Engaging in DIY projects can be a great way to reduce stress and improve mental health. It can also provide opportunities for creative expression and self-expression.\n",
      "6. Game Night: Playing games with friends and family can be a fun and social way to reduce stress and improve mental health. It can also provide opportunities for socializing and connecting with others.\n",
      "7. Movie Night: Watching movies can be a relaxing and enjoyable way to unwind and reduce stress. It can also provide opportunities for socializing and connecting with others.\n",
      "8. Volunteer: Volunteering can be a great way to improve mental health and overall well-being. It can also provide opportunities for socializing and connecting with others, as well as a sense of purpose and fulfillment.\n",
      "9. Spa Day: Treating yourself to a spa day can be a great way to reduce stress and improve mental health. It can also provide opportunities for relaxation and self-care.\n",
      "10. Yoga or Meditation: Practicing yoga or meditation can be a great way to reduce stress and improve mental health. It can also provide opportunities for physical exercise and relaxation.\n",
      "\n",
      "Ultimately, the best activity for your health will depend on your individual needs and preferences. It's important to find activities that you enjoy and that make you feel good, both physically and mentally.\n"
     ]
    }
   ],
   "source": [
    "print(response_2)"
   ]
  },
  {
   "cell_type": "markdown",
   "id": "97681aed-60be-4090-a149-ec55980da388",
   "metadata": {},
   "source": [
    "### Use llama chat helper function"
   ]
  },
  {
   "cell_type": "code",
   "execution_count": 9,
   "id": "a40a7d1b-cf4a-49b3-ae85-c6e38dec3f64",
   "metadata": {
    "height": 30
   },
   "outputs": [],
   "source": [
    "from utils import llama_chat"
   ]
  },
  {
   "cell_type": "code",
   "execution_count": 10,
   "id": "215f7036-14d1-4f95-bcb3-1c8de3a77628",
   "metadata": {
    "height": 96
   },
   "outputs": [],
   "source": [
    "prompt_1 = \"\"\"\n",
    "    What are fun activities I can do this weekend?\n",
    "\"\"\"\n",
    "response_1 = llama(prompt_1)"
   ]
  },
  {
   "cell_type": "code",
   "execution_count": 11,
   "id": "345f48db-2908-4298-a056-67514cc45b39",
   "metadata": {
    "height": 64
   },
   "outputs": [],
   "source": [
    "prompt_2 = \"\"\"\n",
    "Which of these would be good for my health?\n",
    "\"\"\""
   ]
  },
  {
   "cell_type": "code",
   "execution_count": 12,
   "id": "dc353f4a-970a-470e-aa1f-cab44c393261",
   "metadata": {
    "height": 47
   },
   "outputs": [],
   "source": [
    "prompts = [prompt_1,prompt_2]\n",
    "responses = [response_1]"
   ]
  },
  {
   "cell_type": "code",
   "execution_count": 13,
   "id": "ef09d61b-f6a9-4177-9682-7582bdbc342b",
   "metadata": {
    "height": 62
   },
   "outputs": [
    {
     "name": "stdout",
     "output_type": "stream",
     "text": [
      "Prompt:\n",
      "<s>[INST] \n",
      "    What are fun activities I can do this weekend?\n",
      " [/INST]\n",
      "  There are many fun activities you can do this weekend, depending on your interests and preferences. Here are some ideas:\n",
      "\n",
      "1. Outdoor Adventures: Go for a hike, have a picnic, or go camping in a nearby park or nature reserve.\n",
      "2. Cultural Events: Attend a concert, play, or festival in your area. Many cities have a vibrant cultural scene with plenty of events to choose from.\n",
      "3. Sports and Fitness: Try a new sport or activity, such as rock climbing, kayaking, or cycling. Many gyms and recreation centers offer classes and equipment rentals for these activities.\n",
      "4. Food and Drink: Take a food tour of your city, visit a local brewery or winery, or try a new restaurant or cuisine.\n",
      "5. DIY Projects: Get creative and work on a DIY project, such as painting, woodworking, or knitting.\n",
      "6. Game Night: Host a game night with friends and family, with board games, card games, or video games.\n",
      "7. Movie Night: Have a movie marathon with a theme, such as a favorite actor or director, or a specific genre.\n",
      "8. Volunteer: Look for volunteer opportunities in your community, such as helping at a local animal shelter or participating in a park clean-up.\n",
      "9. Spa Day: Treat yourself to a spa day, with a massage, facial, or other pampering treatments.\n",
      "10. Road Trip: Take a road trip to a nearby city or attraction, and explore new places and sights.\n",
      "11. Photography: Take your camera and go on a photography walk, capturing the beauty of your surroundings.\n",
      "12. Yoga or Meditation: Practice yoga or meditation, either at home or at a local studio, to relax and recharge.\n",
      "13. Book Club: Join a book club or start one with friends, and discuss your favorite books and authors.\n",
      "14. Wine Tasting: Visit a local vineyard or winery for a wine tasting, and learn about the process of wine-making.\n",
      "15. Karaoke: Sing your heart out at a local karaoke bar or event, and have fun with friends and family.\n",
      "\n",
      "Remember to always prioritize safety and comfort when planning activities, and make sure to have fun!\n",
      " </s><s>[INST] \n",
      "\n",
      "Which of these would be good for my health?\n",
      "\n",
      " [/INST]\n",
      "\n",
      "model: togethercomputer/llama-2-7b-chat\n"
     ]
    }
   ],
   "source": [
    "# Pass prompts and responses to llama_chat function\n",
    "response_2 = llama_chat(prompts,responses,verbose=True)"
   ]
  },
  {
   "cell_type": "code",
   "execution_count": 14,
   "id": "1c7cd767-3517-4f5e-9f11-708ec42e1e83",
   "metadata": {
    "height": 30
   },
   "outputs": [
    {
     "name": "stdout",
     "output_type": "stream",
     "text": [
      "  It's great that you're thinking about your health! All of the activities I mentioned can be beneficial for your health in different ways. Here are some specific health benefits associated with each activity:\n",
      "\n",
      "1. Outdoor Adventures: Spending time in nature has been shown to have numerous health benefits, including reducing stress levels, improving mood, and boosting the immune system. Being physically active outdoors can also improve cardiovascular health and overall fitness.\n",
      "2. Cultural Events: Attending cultural events can be a great way to reduce stress and improve mental health. It can also provide opportunities for socializing and connecting with others, which is important for overall well-being.\n",
      "3. Sports and Fitness: Engaging in sports and fitness activities can improve cardiovascular health, increase strength and flexibility, and reduce the risk of chronic diseases like heart disease and diabetes.\n",
      "4. Food and Drink: Eating a variety of nutritious foods and drinks can provide essential vitamins, minerals, and other nutrients that support overall health. Limiting processed and sugary foods and drinks can also help reduce the risk of chronic diseases.\n",
      "5. DIY Projects: Engaging in DIY projects can provide opportunities for creative expression and problem-solving, which can be beneficial for mental health. It can also provide a sense of accomplishment and self-esteem.\n",
      "6. Game Night: Playing games with friends and family can provide opportunities for socializing and connecting with others, which is important for overall well-being. It can also be a fun and relaxing way to spend time together.\n",
      "7. Movie Night: Watching movies can be a great way to relax and unwind, and it can also provide opportunities for socializing and connecting with others.\n",
      "8. Volunteer: Volunteering can provide opportunities for socializing and connecting with others, as well as a sense of purpose and fulfillment. It can also improve mental health and overall well-being.\n",
      "9. Spa Day: Treating yourself to a spa day can provide opportunities for relaxation and stress relief, as well as a sense of pampering and self-care.\n",
      "10. Road Trip: Taking a road trip can provide opportunities for adventure and exploration, as well as a chance to spend time with friends and family. It can also be a great way to reduce stress and improve mental health.\n",
      "11. Photography: Engaging in photography can provide opportunities for creative expression and problem-solving, which can be beneficial for mental health. It can also provide a sense of accomplishment and self-esteem.\n",
      "12. Yoga or Meditation: Practicing yoga or meditation can provide numerous health benefits, including reducing stress levels, improving mood, and boosting overall well-being.\n",
      "13. Book Club: Joining a book club can provide opportunities for socializing and connecting with others, as well as a chance to discuss and learn about new books and authors.\n",
      "14. Wine Tasting: Participating in wine tasting can provide opportunities for socializing and connecting with others, as well as a chance to learn about different types of wine and the process of winemaking.\n",
      "15. Karaoke: Singing and performing with others can provide opportunities for socializing and connecting with others, as well as a chance to express oneself creatively.\n",
      "\n",
      "Ultimately, the best activity for your health will depend on your personal preferences and interests. It's important to find activities that you enjoy and that provide opportunities for socializing, creative expression, and relaxation.\n"
     ]
    }
   ],
   "source": [
    "print(response_2)"
   ]
  }
 ],
 "metadata": {
  "kernelspec": {
   "display_name": "Python 3 (ipykernel)",
   "language": "python",
   "name": "python3"
  },
  "language_info": {
   "codemirror_mode": {
    "name": "ipython",
    "version": 3
   },
   "file_extension": ".py",
   "mimetype": "text/x-python",
   "name": "python",
   "nbconvert_exporter": "python",
   "pygments_lexer": "ipython3",
   "version": "3.10.14"
  }
 },
 "nbformat": 4,
 "nbformat_minor": 5
}
